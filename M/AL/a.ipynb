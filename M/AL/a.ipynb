{
 "cells": [
  {
   "cell_type": "code",
   "execution_count": 2,
   "metadata": {},
   "outputs": [
    {
     "data": {
      "image/png": "[encoded data removed]",
      "text/latex": [
       "$\\displaystyle \\left[\\begin{matrix}-3 & -3 & 2\\\\1 & 1 & -2\\\\2 & 4 & -4\\end{matrix}\\right]$"
      ],
      "text/plain": [
       "⎡-3  -3  2 ⎤\n",
       "⎢          ⎥\n",
       "⎢1   1   -2⎥\n",
       "⎢          ⎥\n",
       "⎣2   4   -4⎦"
      ]
     },
     "execution_count": 2,
     "metadata": {},
     "output_type": "execute_result"
    }
   ],
   "source": [
    "import sympy as sp \n",
    "sp.init_printing()\n",
    "\n",
    "A = sp.Matrix([[-3, -3, 2], [1, 1, -2], [2, 4, -4]])\n",
    "A"
   ]
  },
  {
   "cell_type": "code",
   "execution_count": 3,
   "metadata": {},
   "outputs": [],
   "source": [
    "a = sp.Symbol(\"a\")"
   ]
  },
  {
   "cell_type": "code",
   "execution_count": 5,
   "metadata": {},
   "outputs": [
    {
     "data": {
      "image/png": "[encoded data removed]",
      "text/latex": [
       "$\\displaystyle - \\left(a + 2\\right)^{3}$"
      ],
      "text/plain": [
       "        3\n",
       "-(a + 2) "
      ]
     },
     "execution_count": 5,
     "metadata": {},
     "output_type": "execute_result"
    }
   ],
   "source": [
    "(A-a*sp.eye(3)).det().factor()"
   ]
  },
  {
   "cell_type": "code",
   "execution_count": 10,
   "metadata": {},
   "outputs": [],
   "source": [
    "x, y, z = sp.symbols(\"x y z\", real=True)"
   ]
  },
  {
   "cell_type": "code",
   "execution_count": 12,
   "metadata": {},
   "outputs": [
    {
     "data": {
      "image/png": "[encoded data removed]",
      "text/latex": [
       "$\\displaystyle \\left\\{ x : - z, \\  y : z\\right\\}$"
      ],
      "text/plain": [
       "{x: -z, y: z}"
      ]
     },
     "execution_count": 12,
     "metadata": {},
     "output_type": "execute_result"
    }
   ],
   "source": [
    "sp.solve((A + 2*sp.eye(3))@sp.Matrix([x, y, z]), [x, y, z])"
   ]
  },
  {
   "cell_type": "code",
   "execution_count": 13,
   "metadata": {},
   "outputs": [
    {
     "data": {
      "image/png": "[encoded data removed]",
      "text/latex": [
       "$\\displaystyle \\left[\\begin{matrix}- z\\\\z\\\\z\\end{matrix}\\right]$"
      ],
      "text/plain": [
       "⎡-z⎤\n",
       "⎢  ⎥\n",
       "⎢z ⎥\n",
       "⎢  ⎥\n",
       "⎣z ⎦"
      ]
     },
     "execution_count": 13,
     "metadata": {},
     "output_type": "execute_result"
    }
   ],
   "source": [
    "sp.Matrix([x, y, z]).subs(_)"
   ]
  }
 ],
 "metadata": {
  "kernelspec": {
   "display_name": "Python 3",
   "language": "python",
   "name": "python3"
  },
  "language_info": {
   "codemirror_mode": {
    "name": "ipython",
    "version": 3
   },
   "file_extension": ".py",
   "mimetype": "text/x-python",
   "name": "python",
   "nbconvert_exporter": "python",
   "pygments_lexer": "ipython3",
   "version": "3.11.2"
  },
  "orig_nbformat": 4
 },
 "nbformat": 4,
 "nbformat_minor": 2
}
